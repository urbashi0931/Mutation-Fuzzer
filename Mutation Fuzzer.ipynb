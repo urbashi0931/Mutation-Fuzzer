{
 "cells": [
  {
   "cell_type": "markdown",
   "metadata": {},
   "source": [
    "# Assignment Description"
   ]
  },
  {
   "cell_type": "markdown",
   "metadata": {},
   "source": [
    "In this Assignment, you will be asked to implement a simple coverage-guided fuzzer. Fuzzing is commonly used to uncover various types of bugs (e.g., security) and has received much attention from both the industry and academia. You do not need to implement the fuzzer from scratch. In this Jupyter notebook file, we will walk you through some of the basic steps before you implement your own fuzzer. The objectives and submission of this assignment can be found near the end of this file.\n",
    "\n",
    "Note: A lot of the contents are taken from the [fuzzing book](https://www.fuzzingbook.org) with some modifications."
   ]
  },
  {
   "cell_type": "markdown",
   "metadata": {},
   "source": [
    "# Let's start by installing some dependencies!"
   ]
  },
  {
   "cell_type": "markdown",
   "metadata": {},
   "source": [
    "The code below installs the dependency in Jupyter only. A recommended way is to run \"pip install fuzzingbook\" on the command line."
   ]
  },
  {
   "cell_type": "code",
   "execution_count": 25,
   "metadata": {},
   "outputs": [
    {
     "name": "stdout",
     "output_type": "stream",
     "text": [
      "Requirement already satisfied: fuzzingbook in c:\\users\\user\\anaconda3\\lib\\site-packages (0.8.1)\n"
     ]
    }
   ],
   "source": [
    "import sys\n",
    "!{sys.executable} -m pip install fuzzingbook"
   ]
  },
  {
   "cell_type": "code",
   "execution_count": 26,
   "metadata": {},
   "outputs": [
    {
     "name": "stdout",
     "output_type": "stream",
     "text": [
      "Requirement already satisfied: validators in c:\\users\\user\\anaconda3\\lib\\site-packages (0.18.1)\n",
      "Requirement already satisfied: decorator>=3.4.0 in c:\\users\\user\\anaconda3\\lib\\site-packages (from validators) (4.4.2)\n",
      "Requirement already satisfied: six>=1.4.0 in c:\\users\\user\\anaconda3\\lib\\site-packages (from validators) (1.15.0)\n"
     ]
    }
   ],
   "source": [
    "import sys\n",
    "!{sys.executable} -m pip install validators"
   ]
  },
  {
   "cell_type": "code",
   "execution_count": 54,
   "metadata": {},
   "outputs": [
    {
     "name": "stdout",
     "output_type": "stream",
     "text": [
      "Collecting IPy\n",
      "  Downloading IPy-1.00.tar.gz (35 kB)\n",
      "Building wheels for collected packages: IPy\n",
      "  Building wheel for IPy (setup.py): started\n",
      "  Building wheel for IPy (setup.py): finished with status 'done'\n",
      "  Created wheel for IPy: filename=IPy-1.0-py3-none-any.whl size=21144 sha256=9d3ba8d5f6a4910b7aa5ce080bd734bd20b21a99f1c44c2016adb65355a2bb9f\n",
      "  Stored in directory: c:\\users\\user\\appdata\\local\\pip\\cache\\wheels\\c0\\d4\\6b\\a2f002ae5039ff6698980ffa0fe0a0ede66765bea8add246f7\n",
      "Successfully built IPy\n",
      "Installing collected packages: IPy\n",
      "Successfully installed IPy-1.0\n"
     ]
    }
   ],
   "source": [
    "import sys\n",
    "!{sys.executable} -m pip install IPy"
   ]
  },
  {
   "cell_type": "markdown",
   "metadata": {},
   "source": [
    "# A Simple Random Fuzzer"
   ]
  },
  {
   "cell_type": "markdown",
   "metadata": {},
   "source": [
    "Now, let's use the library provided in the fuzzingbook to get a very simple fuzzer: a random fuzzer."
   ]
  },
  {
   "cell_type": "code",
   "execution_count": 28,
   "metadata": {},
   "outputs": [
    {
     "data": {
      "text/plain": [
       "\"8(4=7'>*'83'5/!-4',?8+0#1,<\""
      ]
     },
     "execution_count": 28,
     "metadata": {},
     "output_type": "execute_result"
    }
   ],
   "source": [
    "from fuzzingbook.Fuzzer import RandomFuzzer\n",
    "random_fuzzer = RandomFuzzer()\n",
    "random_fuzzer.fuzz()"
   ]
  },
  {
   "cell_type": "markdown",
   "metadata": {},
   "source": [
    "The output is a randomly generated string, which can be used as an input for other programs."
   ]
  },
  {
   "cell_type": "markdown",
   "metadata": {},
   "source": [
    "We can also look at the implementation of RandomFuzzer:"
   ]
  },
  {
   "cell_type": "code",
   "execution_count": 29,
   "metadata": {},
   "outputs": [
    {
     "name": "stdout",
     "output_type": "stream",
     "text": [
      "class \u001b[32mRandomFuzzer\u001b[39;49;00m(Fuzzer):\n",
      "    def \u001b[32m__init__\u001b[39;49;00m(self, min_length=\u001b[34m10\u001b[39;49;00m, max_length=\u001b[34m100\u001b[39;49;00m,\n",
      "                 char_start=\u001b[34m32\u001b[39;49;00m, char_range=\u001b[34m32\u001b[39;49;00m):\n",
      "        \u001b[33m\"\"\"Produce strings of `min_length` to `max_length` characters\u001b[39;49;00m\n",
      "\u001b[33m           in the range [`char_start`, `char_start` + `char_range`]\"\"\"\u001b[39;49;00m\n",
      "        self.min_length = min_length\n",
      "        self.max_length = max_length\n",
      "        self.char_start = char_start\n",
      "        self.char_range = char_range\n",
      "\n",
      "    def \u001b[32mfuzz\u001b[39;49;00m(self):\n",
      "        string_length = random.\u001b[32mrandrange\u001b[39;49;00m(self.min_length, self.max_length + \u001b[34m1\u001b[39;49;00m)\n",
      "        \u001b[34mout\u001b[39;49;00m = \u001b[33m\"\"\u001b[39;49;00m\n",
      "        \u001b[34mfor\u001b[39;49;00m i \u001b[34min\u001b[39;49;00m \u001b[32mrange\u001b[39;49;00m(\u001b[34m0\u001b[39;49;00m, string_length):\n",
      "            \u001b[34mout\u001b[39;49;00m += \u001b[32mchr\u001b[39;49;00m(random.\u001b[32mrandrange\u001b[39;49;00m(self.char_start,\n",
      "                                        self.char_start + self.char_range))\n",
      "        \u001b[34mreturn\u001b[39;49;00m \u001b[34mout\u001b[39;49;00m\n"
     ]
    }
   ],
   "source": [
    "import inspect\n",
    "from fuzzingbook.fuzzingbook_utils import print_content\n",
    "\n",
    "print_content(inspect.getsource(RandomFuzzer))"
   ]
  },
  {
   "cell_type": "markdown",
   "metadata": {},
   "source": [
    "The fuzzer simply generates a random string with a default length between 10 and 100.\n",
    "\n",
    "## Example: Finding Buffer Overflow\n",
    "Let's see how this fuzzer can be useful through a simple simulated example. In C, we often need to specify the length of the characters that we need to read. If the actual length is longer than the specified length, it can cause buffer overflow. (The example is taken from the [fuzzing book](https://www.fuzzingbook.org))\n",
    "\n",
    "```c\n",
    "char weekday[10]; // 9 characters + trailing '\\0' terminator\n",
    "strcpy (weekday, input);\n",
    "```\n",
    "\n",
    "We can simulate this problem in Python as: "
   ]
  },
  {
   "cell_type": "code",
   "execution_count": 14,
   "metadata": {},
   "outputs": [],
   "source": [
    "def crash_if_too_long(s):\n",
    "    if len(s) > 9: # 9 characters\n",
    "        raise ValueError"
   ]
  },
  {
   "cell_type": "markdown",
   "metadata": {},
   "source": [
    "Now, let's generate tests for this program."
   ]
  },
  {
   "cell_type": "code",
   "execution_count": 30,
   "metadata": {},
   "outputs": [
    {
     "name": "stdout",
     "output_type": "stream",
     "text": [
      "trial: 0 with input: =0,(6%7*78< ;,#*$2.1(<,!4).5>;,%#;6/492%1;57>$4 1%80\n"
     ]
    },
    {
     "name": "stderr",
     "output_type": "stream",
     "text": [
      "Traceback (most recent call last):\n",
      "  File \"<ipython-input-30-9e514079d094>\", line 8, in <module>\n",
      "    crash_if_too_long(inp)\n",
      "  File \"<ipython-input-14-82d8cf6c68ac>\", line 3, in crash_if_too_long\n",
      "    raise ValueError\n",
      "ValueError\n"
     ]
    }
   ],
   "source": [
    "import traceback # to get the stack trace\n",
    "\n",
    "trials = 100\n",
    "for i in range(0, trials):\n",
    "    inp = random_fuzzer.fuzz()\n",
    "    print (\"trial: %s with input: %s\" % (i, inp))\n",
    "    try: \n",
    "        crash_if_too_long(inp)\n",
    "    except ValueError:\n",
    "        traceback.print_exc()\n",
    "        break"
   ]
  },
  {
   "cell_type": "markdown",
   "metadata": {},
   "source": [
    "As we can see, our very simple fuzzer is able to trigger the (simulated) bug. These kinds of bug may lead to security issues. Many companes nowadays use fuzzing to help them detect bugs.\n",
    "\n",
    "For example, Google uses fuzzing and open sourced their fuzzing tool: [OSS Fuzz](https://github.com/google/oss-fuzz). As mentioned by Google, so far, OSS Fuzz has detected more than 14,000 bugs in 200 open source systems.\n",
    "\n",
    "Other popular fuzzing tools include: [AFL](https://github.com/google/AFL), [LibFuzzer](https://llvm.org/docs/LibFuzzer.html), and many more. In particular, AFL is one of the most popular and most extended fuzzer. Many research papers are built upon AFL. "
   ]
  },
  {
   "cell_type": "markdown",
   "metadata": {},
   "source": [
    "## Testing a Simple URL Parser"
   ]
  },
  {
   "cell_type": "markdown",
   "metadata": {},
   "source": [
    "Let's use our simple fuzzer to test a simple URL parser in Python."
   ]
  },
  {
   "cell_type": "code",
   "execution_count": 31,
   "metadata": {},
   "outputs": [],
   "source": [
    "from urllib.parse import urlparse\n",
    "\n",
    "def http_program(url):\n",
    "    supported_schemes = [\"http\", \"https\"]\n",
    "    result = urlparse(url)\n",
    "   #print(result)\n",
    "    #print(result.scheme)\n",
    "    if result.scheme not in supported_schemes:\n",
    "        raise ValueError(\"Scheme must be one of \" + repr(supported_schemes))\n",
    "    if result.netloc == '':\n",
    "        raise ValueError(\"Host must be non-empty\")\n",
    "\n",
    "    # Do something with the URL\n",
    "    return True  "
   ]
  },
  {
   "cell_type": "markdown",
   "metadata": {},
   "source": [
    "For now, we assume that our goal is to test if we can generate both valid and invliad inputs for the program. We can use the following code:"
   ]
  },
  {
   "cell_type": "code",
   "execution_count": 32,
   "metadata": {},
   "outputs": [],
   "source": [
    "def is_valid_url(url):\n",
    "    try:\n",
    "        result = http_program(url)\n",
    "        return True\n",
    "    except ValueError:\n",
    "        return False\n"
   ]
  },
  {
   "cell_type": "markdown",
   "metadata": {},
   "source": [
    "Then, we use our random fuzzer to test the program. "
   ]
  },
  {
   "cell_type": "code",
   "execution_count": 33,
   "metadata": {},
   "outputs": [
    {
     "name": "stdout",
     "output_type": "stream",
     "text": [
      "input is !0>6:\"&68;(78,$679 (.\"8<543(<)//8*\n",
      "input is /;?>#2*\"1.<%/58>;%:2)&;/-$ *,9469.+*9*--\"97;7';-1+*<!.8$'?\"&:*\"+*\"!5/$9-<(.2<014#>  \"%\n",
      "input is  -:!,'.+-33\"%5;348\"0#!9=+8<65-73)=79\"7->#<*3;+9#9,%3,<<%=<>?%:9<10%%*%/%: =9&4\n",
      "input is &36692$0<1++3* ;,!+#31)346;*/474'\n",
      "input is 4+%#%3 /2!88 *'/->?>7,9\"$9:1 &1(;\".;/*0.783'.*=8-'62*=7:4.$/9%!:%#\n",
      "input is 4:+6=\"#38\")2 <)4,+>*#-**>2':>9!!7/6#8*:8!-0?4*9;!?'!?(%*'1/8119<61&.?;</;)+7.$\";8+<?/\" \"/,(=\n",
      "input is *%&5--2;!+>&.8;*1*4/%18./>0>;)*8'?1;8?0>38!9%1:<,54.4#5,+.5:42/.-3&&3(#+40<2;4)'):6:*=:56--\"1540\n",
      "input is 186111>3/5#3:48!'+2-#?;(--(?>#<8->2.%0&&:583425# (#?;)0 2<1), 9;%(5?1-5.8=740:',&37\n",
      "input is ('>,65=>-759- ?0?.65, 71;$596\"6!)4>0 $2; ';$%=* 6) \"\"?:&=',0+/<587? ?+%&3.,)!17681434 >#1+:376!//\n",
      "input is %6 5#3&!.%;+.;$;;=+<<(;:.$65&=151%21\"14: 4,*:-1=+4=$%35-'44%4%%+0)60.8>;7&519+?=!14\"&*&!#2941=4$0.\n",
      "input is ,43\"&'46<2#(*9.>33;6>>#\"-/$?;:8&5)5&8%35':31698+*'0>32.?-;3!$\n",
      "input is 917:!'%\"9#9%!!\n",
      "input is ?4;26$='/:$'.);%>  >9,?/6<76<'))(?/?429&\n",
      "input is ?%,&/!:-2 .$<#<1(-/<$&/3.>-/'1=;< /'9!*5;%\".,%/+(7?2:?*:;<,= .&%==\"8=7&!.'*\n",
      "input is :#38$5 9 /40+:$86/6*# :'*:2.(+/6,4:-99++4?5$%7&'356 ;5/%<\"? \"(4<+9:$,-.\n",
      "input is $);;4*?)?$% 8# +7.)8>.#!0\n",
      "input is <\"?>.-;-740&! .-60+)#/;;&4/&!3(*>5<8>&%,9\n",
      "input is >%20.$4<7%2>,9><.>7<$;8<(?&)5$>6.89'6(82= *8;=& 9.-(9\"486&860409,8&3('*;7 \"+07-?21,3:79)382*\")?1.\n",
      "input is &!<:>-2'+*/=\"'8&.2.(93,+;;\"0$.:1(? !%9->-5*)55;4+76$,65.0+\"584#))!\"%*#%?>,, \"<23<*,2<)#?8?%9\n",
      "input is 65<,;3/2/(.  \"\"!)9<4).3.\",0)&?=03;!(\"%01 :;&-*>)!$3&+4*>>)>&9 3*,;'1*?,$)4&%06:77+\"6&%#-\n"
     ]
    },
    {
     "data": {
      "text/plain": [
       "0.0"
      ]
     },
     "execution_count": 33,
     "metadata": {},
     "output_type": "execute_result"
    }
   ],
   "source": [
    "random_fuzzer = RandomFuzzer()\n",
    "\n",
    "valid_inputs = set()\n",
    "trials = 20\n",
    "\n",
    "for i in range(trials):\n",
    "    inp = random_fuzzer.fuzz()\n",
    "    print (\"input is \" + inp)\n",
    "    if is_valid_url(inp):\n",
    "        valid_inputs.add(inp) \n",
    "\n",
    "len(valid_inputs) / trials"
   ]
  },
  {
   "cell_type": "markdown",
   "metadata": {},
   "source": [
    "As expected, we cannot generate any valid input to test the program. How can we generate smarter inputs?"
   ]
  },
  {
   "cell_type": "markdown",
   "metadata": {},
   "source": [
    "# Mutation Fuzzer"
   ]
  },
  {
   "cell_type": "markdown",
   "metadata": {},
   "source": [
    "Randomly generating inputs may not sound so smart. For different programs, we might want a more customized way to automatically generate inputs. \n",
    "\n",
    "For example, if we want to test a calculator program, we might not want to generate so many textual inputs. These textual inputs may only increase the test generation time with no additional code coverage (more on this later). "
   ]
  },
  {
   "cell_type": "markdown",
   "metadata": {},
   "source": [
    "Now, let's look at some simple mutation operators."
   ]
  },
  {
   "cell_type": "code",
   "execution_count": 34,
   "metadata": {},
   "outputs": [
    {
     "data": {
      "text/plain": [
       "'www.gogle.com'"
      ]
     },
     "execution_count": 34,
     "metadata": {},
     "output_type": "execute_result"
    }
   ],
   "source": [
    "import random\n",
    "\n",
    "# the code mutates the input by randomly deleting a character\n",
    "def delete_random_char(s):\n",
    "    if s == \"\":\n",
    "        return s\n",
    "    pos = random.randint(0, len(s) - 1)\n",
    "    return s[:pos] + s[pos+1:]\n",
    "\n",
    "inp = \"www.google.com\"\n",
    "delete_random_char(inp)"
   ]
  },
  {
   "cell_type": "code",
   "execution_count": 35,
   "metadata": {},
   "outputs": [
    {
     "data": {
      "text/plain": [
       "'This is an {example'"
      ]
     },
     "execution_count": 35,
     "metadata": {},
     "output_type": "execute_result"
    }
   ],
   "source": [
    "# the code mutates the input by randomly adding a character\n",
    "def add_random_char(s):\n",
    "    pos = random.randint(0, len(s) - 1)\n",
    "    random_character = chr(random.randrange(32, 127))\n",
    "    return s[:pos] + random_character + s[pos:]\n",
    "\n",
    "inp = \"This is an example\"\n",
    "add_random_char(inp)"
   ]
  },
  {
   "cell_type": "code",
   "execution_count": 21,
   "metadata": {},
   "outputs": [
    {
     "data": {
      "text/plain": [
       "'This is an exqmple'"
      ]
     },
     "execution_count": 21,
     "metadata": {},
     "output_type": "execute_result"
    }
   ],
   "source": [
    "# the code mutates the input by randomly flipping a character\n",
    "def flip_random_character(s):\n",
    "    \"\"\"Returns s with a random bit flipped in a random position\"\"\"\n",
    "    if s == \"\":\n",
    "        return s\n",
    "\n",
    "    pos = random.randint(0, len(s) - 1)\n",
    "    c = s[pos]\n",
    "    bit = 1 << random.randint(0, 6)\n",
    "    new_c = chr(ord(c) ^ bit)\n",
    "    # print(\"Flipping\", bit, \"in\", repr(c) + \", giving\", repr(new_c))\n",
    "    return s[:pos] + new_c + s[pos + 1:]\n",
    "\n",
    "inp = \"This is an example\"\n",
    "flip_random_character(inp)"
   ]
  },
  {
   "cell_type": "markdown",
   "metadata": {},
   "source": [
    "We can also apply multiple mutators to an input:"
   ]
  },
  {
   "cell_type": "code",
   "execution_count": 36,
   "metadata": {},
   "outputs": [
    {
     "name": "stdout",
     "output_type": "stream",
     "text": [
      "This is an example\n",
      "This is an exaple\n",
      "This is an exapl\n",
      "this is an exapl\n",
      "this is an xapl\n",
      "this 7is an xapl\n",
      "this 7is }an xapl\n",
      "this 7is }*an xapl\n",
      "this wis }*an xapl\n",
      "thys wis }*an xapl\n",
      "final\n",
      "thys $wis }*an xapl\n"
     ]
    }
   ],
   "source": [
    "inp = \"This is an example\"\n",
    "\n",
    "mutators = [delete_random_char, add_random_char, flip_random_character]\n",
    "\n",
    "for i in range(0, 10):\n",
    "    mutator = mutators[random.randint(0, 2)]\n",
    "    print(inp)\n",
    "    inp = mutator(inp)\n",
    "print(\"final\")    \n",
    "# after 10 random mutations\n",
    "print (inp)"
   ]
  },
  {
   "cell_type": "markdown",
   "metadata": {},
   "source": [
    "We can also use similar code to fuzz URLs for testing web servers or URL parsers (remember the example that we discussed in the previous section). \n",
    "\n",
    "Now, instead of using the code above, we can call the API from the FuzzingBook (the behaviour is the same):"
   ]
  },
  {
   "cell_type": "code",
   "execution_count": 37,
   "metadata": {},
   "outputs": [
    {
     "data": {
      "text/plain": [
       "['https://www.cmncoia.ca/',\n",
       " 'tt:pfs://wwwkoNcGrdJi.ca/',\n",
       " 'jGtts://wwconc8o rde.ca/',\n",
       " 'https:\\x7fww.RwonCordia.caT/',\n",
       " 'http://w}ww.1concoYrdia.ca/',\n",
       " 'httpQsv:/wwwg.ctoncorNdiaE.cSa/',\n",
       " '`ttpscJ.://www.concordBHia.{ba/',\n",
       " 'httpsd://www.concrdia.ca/',\n",
       " 'hPEttps:\\x0fwww.cDoncoSrdia.ca/',\n",
       " 'htt`s://wvw.concopdaV.ca/']"
      ]
     },
     "execution_count": 37,
     "metadata": {},
     "output_type": "execute_result"
    }
   ],
   "source": [
    "from fuzzingbook.MutationFuzzer import MutationFuzzer\n",
    "import random\n",
    "seed = \"https://www.concordia.ca/\"\n",
    "mutation_fuzzer = MutationFuzzer(seed=[\"https://www.concordia.ca/\"])\n",
    "mutation_fuzzer.fuzz()\n",
    "\n",
    "[mutation_fuzzer.fuzz() for i in range(10)]\n"
   ]
  },
  {
   "cell_type": "markdown",
   "metadata": {},
   "source": [
    "These automatically generated inputs look better than those randomly generated ones. We can use inputs to test the URL parser program for unexpected behvaiour (e.g., exception handling or crashes) or even security issues.\n",
    "\n",
    "Note that for different problems, you might need to come up with different mutators. For example, if you are testing a calculator program, mutators for strings may not be very effective. "
   ]
  },
  {
   "cell_type": "markdown",
   "metadata": {},
   "source": [
    "Let's use our new fuzzer to test our URL parser."
   ]
  },
  {
   "cell_type": "code",
   "execution_count": 38,
   "metadata": {},
   "outputs": [
    {
     "name": "stdout",
     "output_type": "stream",
     "text": [
      "input http://www.concordia.ca\n",
      "input ht^vp://wwW.coyncori[.ca\n",
      "input hvp>/wWw>coUncordia.a\n",
      "input htpp://www.cRoncordiaca\n",
      "input h2t://w>wwcnyoria.ca\n",
      "input http://www.gOncorIdia.ca\n",
      "input ttNp://7ww.c.cordia.a\n",
      "input http:+/wsw.concoM=rdia.cx\n",
      "input xttp:+/www.cO9nc$ordia.ca7\n",
      "input http:/www.Wcncordia+.ca\n",
      "input http\u001a//N7~g.coNodia.ca\n",
      "input jhttp://www.cmncordia.ca\n",
      "input BhVttp://www.concordia.ca\n",
      "input http:/www.coNncopdia.ci\n",
      "input htt2p:+/www.conaordia.ca{\n",
      "input jttp//www.cOncordia.za\n",
      "input http://Www.conc9ordia.aa\n",
      "input http://Vwww.cnnckda.aa\n",
      "input h4tp://www.cocoria.cQa\n",
      "input http://wws.concda.aca\n"
     ]
    },
    {
     "data": {
      "text/plain": [
       "0.25"
      ]
     },
     "execution_count": 38,
     "metadata": {},
     "output_type": "execute_result"
    }
   ],
   "source": [
    "seed = \"http://www.concordia.ca\"\n",
    "mutation_fuzzer = MutationFuzzer([seed])\n",
    "\n",
    "valid_inputs = set()\n",
    "trials = 20\n",
    "\n",
    "for i in range(trials):\n",
    "    inp = mutation_fuzzer.fuzz()\n",
    "    print (\"input \" + inp)\n",
    "    if is_valid_url(inp):\n",
    "        valid_inputs.add(inp) \n",
    "\n",
    "len(valid_inputs) / trials"
   ]
  },
  {
   "cell_type": "markdown",
   "metadata": {},
   "source": [
    "This is an improvement. We can now generate valid inputs to test the URL pareser! \n",
    "\n",
    "But is there any way that we can do better?"
   ]
  },
  {
   "cell_type": "markdown",
   "metadata": {},
   "source": [
    "# Using Coverage to Guide Fuzzing"
   ]
  },
  {
   "cell_type": "markdown",
   "metadata": {},
   "source": [
    "What we have discussed so far belongs to the family of blackbox fuzzing. Namely, we do not have any information of the source code, nor how the code is executed. We can improve our fuzzer by integrating the coverage information. "
   ]
  },
  {
   "cell_type": "markdown",
   "metadata": {},
   "source": [
    "We can easily get coverage information in Python. We can setup a trace function as follows (more information can be found [here](https://pymotw.com/3/sys/tracing.html)):"
   ]
  },
  {
   "cell_type": "code",
   "execution_count": 39,
   "metadata": {},
   "outputs": [],
   "source": [
    "# record which line got executed\n",
    "coverage = []\n",
    "\n",
    "def traceit(frame, event, arg):\n",
    "    if event == \"line\":\n",
    "        global coverage\n",
    "        #func_filename = frame.f_code.co_filename\n",
    "        function_name = frame.f_code.co_name\n",
    "        lineno = frame.f_lineno\n",
    "        #coverage.append((func_filename, function_name, lineno))\n",
    "        coverage.append((function_name, lineno))\n",
    "\n",
    "    return traceit"
   ]
  },
  {
   "cell_type": "code",
   "execution_count": 40,
   "metadata": {},
   "outputs": [
    {
     "data": {
      "text/plain": [
       "[('is_valid_url', 2),\n",
       " ('is_valid_url', 3),\n",
       " ('http_program', 4),\n",
       " ('http_program', 5),\n",
       " ('urlparse', 372),\n",
       " ('_coerce_args', 116),\n",
       " ('_coerce_args', 117),\n",
       " ('_coerce_args', 120),\n",
       " ('_coerce_args', 117),\n",
       " ('_coerce_args', 122),\n",
       " ('_coerce_args', 123),\n",
       " ('urlparse', 373),\n",
       " ('urlsplit', 423),\n",
       " ('_coerce_args', 116),\n",
       " ('_coerce_args', 117),\n",
       " ('_coerce_args', 120),\n",
       " ('_coerce_args', 117),\n",
       " ('_coerce_args', 122),\n",
       " ('_coerce_args', 123),\n",
       " ('urlsplit', 424),\n",
       " ('urlsplit', 425),\n",
       " ('urlsplit', 426),\n",
       " ('urlsplit', 427),\n",
       " ('urlsplit', 429),\n",
       " ('urlsplit', 431),\n",
       " ('urlsplit', 432),\n",
       " ('urlsplit', 433),\n",
       " ('urlsplit', 460),\n",
       " ('urlsplit', 465),\n",
       " ('urlsplit', 467),\n",
       " ('urlsplit', 469),\n",
       " ('_checknetloc', 400),\n",
       " ('_checknetloc', 401),\n",
       " ('urlsplit', 470),\n",
       " ('__new__', 1),\n",
       " ('urlsplit', 471),\n",
       " ('urlsplit', 472),\n",
       " ('_noop', 100),\n",
       " ('urlparse', 374),\n",
       " ('urlparse', 375),\n",
       " ('urlparse', 378),\n",
       " ('urlparse', 379),\n",
       " ('__new__', 1),\n",
       " ('urlparse', 380),\n",
       " ('_noop', 100),\n",
       " ('http_program', 8),\n",
       " ('http_program', 9),\n",
       " ('is_valid_url', 5),\n",
       " ('is_valid_url', 6)]"
      ]
     },
     "execution_count": 40,
     "metadata": {},
     "output_type": "execute_result"
    }
   ],
   "source": [
    "import sys\n",
    "\n",
    "def execute_and_trace(fun, inp):\n",
    "    global coverage\n",
    "    coverage = []\n",
    "    sys.settrace(traceit)  # Turn on\n",
    "    fun(inp)\n",
    "    sys.settrace(None)    # Turn off\n",
    "\n",
    "inp = \"urbashi0931@gmail.com\"\n",
    "execute_and_trace(is_valid_url, inp)\n",
    "[cov for cov in coverage]"
   ]
  },
  {
   "cell_type": "markdown",
   "metadata": {},
   "source": [
    "We can also use the *Coverage* class from the fuzzing book to achieve the same goal. The code in the fuzzing book simply abstracts the above-mentioned code. "
   ]
  },
  {
   "cell_type": "code",
   "execution_count": 41,
   "metadata": {},
   "outputs": [
    {
     "data": {
      "text/plain": [
       "[('urlsplit', 425),\n",
       " ('urlsplit', 434),\n",
       " ('urlparse', 373),\n",
       " ('is_valid_url', 3),\n",
       " ('urlsplit', 431),\n",
       " ('urlsplit', 437),\n",
       " ('urlsplit', 446),\n",
       " ('urlparse', 379),\n",
       " ('urlsplit', 443),\n",
       " ('_checknetloc', 400),\n",
       " ('_splitnetloc', 392),\n",
       " ('_splitnetloc', 395),\n",
       " ('_coerce_args', 116),\n",
       " ('_coerce_args', 122),\n",
       " ('__exit__', 237),\n",
       " ('urlsplit', 427),\n",
       " ('urlsplit', 424),\n",
       " ('is_valid_url', 2),\n",
       " ('urlsplit', 436),\n",
       " ('urlparse', 375),\n",
       " ('urlsplit', 433),\n",
       " ('urlparse', 372),\n",
       " ('urlsplit', 439),\n",
       " ('urlparse', 378),\n",
       " ('http_program', 8),\n",
       " ('urlsplit', 448),\n",
       " ('http_program', 5),\n",
       " ('urlsplit', 445),\n",
       " ('http_program', 14),\n",
       " ('_splitnetloc', 394),\n",
       " ('_splitnetloc', 397),\n",
       " ('urlsplit', 423),\n",
       " ('urlsplit', 429),\n",
       " ('urlsplit', 426),\n",
       " ('urlsplit', 432),\n",
       " ('is_valid_url', 4),\n",
       " ('urlsplit', 435),\n",
       " ('urlsplit', 441),\n",
       " ('urlparse', 374),\n",
       " ('http_program', 4),\n",
       " ('urlsplit', 438),\n",
       " ('__new__', 1),\n",
       " ('urlparse', 380),\n",
       " ('_noop', 100),\n",
       " ('urlsplit', 447),\n",
       " ('http_program', 10),\n",
       " ('_checknetloc', 401),\n",
       " ('_splitnetloc', 393),\n",
       " ('_coerce_args', 117),\n",
       " ('_coerce_args', 120),\n",
       " ('_coerce_args', 123)]"
      ]
     },
     "execution_count": 41,
     "metadata": {},
     "output_type": "execute_result"
    }
   ],
   "source": [
    "from fuzzingbook.Coverage import Coverage\n",
    "\n",
    "inp = \"http://www.concordia.ca\"\n",
    "\n",
    "with Coverage() as cov:\n",
    "    is_valid_url(inp)\n",
    "    \n",
    "[c for c in cov.coverage()]"
   ]
  },
  {
   "cell_type": "markdown",
   "metadata": {},
   "source": [
    "How can the coverage information help us during fuzzing? Let's look at the example below. "
   ]
  },
  {
   "cell_type": "code",
   "execution_count": 42,
   "metadata": {},
   "outputs": [
    {
     "data": {
      "text/plain": [
       "{('urlsplit', 428)}"
      ]
     },
     "execution_count": 42,
     "metadata": {},
     "output_type": "execute_result"
    }
   ],
   "source": [
    "with Coverage() as first_cov:\n",
    "    is_valid_url(\"http://www.concordia.ca\")\n",
    "with Coverage() as second_cov:\n",
    "    # the URL of searching \"google\" on Google\n",
    "    is_valid_url(\"https://www.google.com/search?q=google&rlz=1C5CHFA_enCA758CA758&oq=google&aqs=chrome..69i57j69i60l3j69i65j69i60.4544j0j7&sourceid=chrome&ie=UTF-8\")\n",
    "    \n",
    "first_cov.coverage() - second_cov.coverage()"
   ]
  },
  {
   "cell_type": "markdown",
   "metadata": {},
   "source": [
    "The coverage information for different inputs may be different! Let's see the relationship between input and coverage. "
   ]
  },
  {
   "cell_type": "code",
   "execution_count": 43,
   "metadata": {},
   "outputs": [],
   "source": [
    "def calculate_cumulative_coverage(input_population, function):\n",
    "    cumulative_coverage = []\n",
    "    all_coverage = set()\n",
    "    \n",
    "    for inp in input_population:\n",
    "        with Coverage() as cov:\n",
    "            try:\n",
    "                function(inp)\n",
    "                #print(all_coverage)\n",
    "            except:\n",
    "                # we ignore exceptions for the purpose of this code, but some exceptions may be interesting\n",
    "                pass\n",
    "        # set union\n",
    "        all_coverage |= cov.coverage()\n",
    "        cumulative_coverage.append(len(all_coverage))\n",
    "        #print(cumulative_coverage)\n",
    "    return cumulative_coverage\n"
   ]
  },
  {
   "cell_type": "markdown",
   "metadata": {},
   "source": [
    "The above code measures the cumulative coverage for a set of inputs (i.e., input_population). Let's test this code by doing some simple fuzzing. "
   ]
  },
  {
   "cell_type": "code",
   "execution_count": 68,
   "metadata": {},
   "outputs": [
    {
     "data": {
      "text/plain": [
       "[29, 60, 60, 69, 69, 69, 72, 72, 72, 72, 73, 73, 73, 73, 73]"
      ]
     },
     "execution_count": 68,
     "metadata": {},
     "output_type": "execute_result"
    }
   ],
   "source": [
    "trials = 15\n",
    "fuzzer = MutationFuzzer(seed = [\"http://www.concordia.ca\"])\n",
    "random_fuzzer = RandomFuzzer().fuzz()\n",
    "population = []\n",
    "for i in range(0, trials):\n",
    "    population.append(fuzzer.fuzz())\n",
    "\n",
    "cumulative_coverage = calculate_cumulative_coverage(population, is_valid_url)\n",
    "random_cumulative_coverage = calculate_cumulative_coverage(population, is_valid_url)\n",
    "cumulative_coverage"
   ]
  },
  {
   "cell_type": "markdown",
   "metadata": {},
   "source": [
    "We can also visualize the cumulative coverage."
   ]
  },
  {
   "cell_type": "code",
   "execution_count": 45,
   "metadata": {},
   "outputs": [
    {
     "data": {
      "text/plain": [
       "Text(0, 0.5, 'lines covered')"
      ]
     },
     "execution_count": 45,
     "metadata": {},
     "output_type": "execute_result"
    },
    {
     "data": {
      "image/png": "[encoded data removed]",
      "text/plain": [
       "<Figure size 432x288 with 1 Axes>"
      ]
     },
     "metadata": {
      "needs_background": "light"
     },
     "output_type": "display_data"
    }
   ],
   "source": [
    "import matplotlib.pyplot as plt\n",
    "%matplotlib inline\n",
    "\n",
    "plt.plot(cumulative_coverage)\n",
    "plt.title('Coverage of is_valid_url() with random inputs')\n",
    "plt.xlabel('# of inputs')\n",
    "plt.ylabel('lines covered')"
   ]
  },
  {
   "cell_type": "markdown",
   "metadata": {},
   "source": [
    "# Objective 1 - Now it is your turn to construct a coverage-guided fuzzer"
   ]
  },
  {
   "cell_type": "markdown",
   "metadata": {},
   "source": [
    "You will need to implement a smarter way to create fuzzed input for your program. However, we are still randomly generating fuzzed inputs. In the first part of the assignment, you need to implement an algorithm to be smarter when generating the fuzzed inputs.\n",
    "\n",
    "* You need to maintain a population (i.e., a list of seeds) that you can use for mutation. Each seed in the\n",
    "population will be an input that provided additional coverage information.\n",
    "* You will take a seed from the population and fuzz the seed to test the program. __If the population is empty, you\n",
    "can mutate an initial seed that you provide manually__.\n",
    "* __You need to take the seed from the population semi-randomly, but the seeds that provided more additional\n",
    "coverage have a higher chance of being selected.__\n",
    "* If the new input increased the coverage, add this new input to the population as a new seed. Assign a score to\n",
    "the seed (i.e., how much coverage it improved).\n",
    "* Repeat and go back to Step 2 until you execute your fuzzer X times (i.e., your pre-defined number of trials)."
   ]
  },
  {
   "cell_type": "markdown",
   "metadata": {},
   "source": [
    "This is an extra mutator object that shuffles a string (i.e email address/URL). It is an extension to the previous mutators that relies on adding/deleting/flipping random characters in a given string"
   ]
  },
  {
   "cell_type": "code",
   "execution_count": 46,
   "metadata": {},
   "outputs": [
    {
     "data": {
      "text/plain": [
       "'9gc3m@0hr.uomisabl1ai'"
      ]
     },
     "execution_count": 46,
     "metadata": {},
     "output_type": "execute_result"
    }
   ],
   "source": [
    "import random\n",
    "def shuffle_chars(s):\n",
    "    chars=list(s)\n",
    "    #print (chars)\n",
    "    shuffled=random.sample(chars,len(chars)) \n",
    "    outputString=\"\"\n",
    "    outputString=outputString.join(shuffled)\n",
    "    return outputString\n",
    "\n",
    "input=\"urbashi0931@gmail.com\"\n",
    "shuffle_chars(input)"
   ]
  },
  {
   "cell_type": "code",
   "execution_count": 47,
   "metadata": {},
   "outputs": [
    {
     "data": {
      "text/plain": [
       "'@`&(\\\\'"
      ]
     },
     "execution_count": 47,
     "metadata": {},
     "output_type": "execute_result"
    }
   ],
   "source": [
    "import random\n",
    "import string\n",
    "def get_random_punctuation(s):\n",
    "    length=len(s)\n",
    "    listofpunctuation = string.punctuation\n",
    "    result_str = ''.join(random.choice(listofpunctuation) for i in range(length))\n",
    "    return result_str\n",
    "s=\"apple\"\n",
    "get_random_punctuation(s)"
   ]
  },
  {
   "cell_type": "code",
   "execution_count": 48,
   "metadata": {
    "scrolled": true
   },
   "outputs": [],
   "source": [
    "from fuzzingbook.Coverage import Coverage\n",
    "\n",
    "#this function calculates total no of lines covered for a single seed input. This function is used in objective 1\n",
    "def get_lines_covered(func, arg):\n",
    "    with Coverage() as cov:\n",
    "        func(arg)\n",
    "        \n",
    "    return (len(cov.coverage()), cov.coverage())\n",
    "\n",
    "inp = \"a.9msmU0bso`c`1ilah\"\n",
    "#get_lines_covered(is_valid_url, inp)"
   ]
  },
  {
   "cell_type": "code",
   "execution_count": 83,
   "metadata": {},
   "outputs": [
    {
     "name": "stdout",
     "output_type": "stream",
     "text": [
      "[('urbashicse@09.com', 16), (\"}]'>:-{>_@{+%*<_=\", 139), (\"'*{@_}_>:]-=+{><%\", 151), (\"$>'!<``?}*^$&:&:[\", 137), ('urbashicse@09.c\\x7fm', 152), ('uc9sear0scobmih@.', 152), ('u9eio.0sbharcmsc@', 146)]\n"
     ]
    }
   ],
   "source": [
    "\n",
    "#predefined no of trials \n",
    "trial = 2000\n",
    "\n",
    "my_cumulative_coverage=[]\n",
    "\n",
    "#mutator list\n",
    "#each mutator is defined above\n",
    "mutators = [ delete_random_char,add_random_char,flip_random_character,shuffle_chars,get_random_punctuation]\n",
    "\n",
    "#actual implementation of objective 1\n",
    "def get_fuzzy_inputs(func, seed):\n",
    "    try:\n",
    "        seed_line_covered ,covered_set = get_lines_covered(func, seed) \n",
    "    \n",
    "        population = [(seed, seed_line_covered)] # [(\"urbashi0931@gmail.com\", 123)]\n",
    "    \n",
    "        #looping as of no of trials(last bullet)\n",
    "        for i in range(trial):\n",
    "            seeds = [seed[0] for seed in population]\n",
    "            lines_covered = [seed[1] for seed in population]\n",
    "        #semi-random selection starts here where lines_covered is a weight    \n",
    "            seed_choice = random.choices(seeds,lines_covered)\n",
    "        \n",
    "        \n",
    "        #print(seed_choice)\n",
    "        \n",
    "        #fuzzer = MutationFuzzer(seed = seed_choice)\n",
    "       #taking a mutator object from the list of mutators\n",
    "            mutator = mutators[random.randint(0,4)]\n",
    "            mutated_seed = mutator(seed_choice[0])\n",
    "        #mutated_seed = fuzzer.fuzz()\n",
    "        \n",
    "        #print(mutated_seed, seed_choice)\n",
    "        \n",
    "            mutated_lines_covered, mutated_covered_set = get_lines_covered(func, mutated_seed)\n",
    "        \n",
    "    #if the new input increased the coverage, add this new input to the population as a new seed. Assign a score to the seed \n",
    "            if len(covered_set | mutated_covered_set) > len(covered_set):\n",
    "                covered_set |= mutated_covered_set\n",
    "                population.append((mutated_seed, mutated_lines_covered))\n",
    "        \n",
    "            #print(population)\n",
    "                my_cumulative_coverage.append(len(covered_set))\n",
    "           # print(len(covered_set))\n",
    "        \n",
    "        \n",
    "    \n",
    "        return population\n",
    "#exception handling for possible system crash detection\n",
    "    except :\n",
    "        e = sys.exc_info()[0]\n",
    "\n",
    "#inputs = get_fuzzy_inputs(is_valid_email,'urbashi0931@gmail.com')\n",
    "#inputs = get_fuzzy_inputs(is_valid_ip,\"172.101.245.123.111.001\")\n",
    "#inputs = get_fuzzy_inputs(is_valid_url, \"https://www.concordia.ca\")\n",
    "#inputs = get_fuzzy_inputs(cgi_decode,\"a+b\")\n",
    "print(inputs)"
   ]
  },
  {
   "cell_type": "markdown",
   "metadata": {},
   "source": [
    "# Objective 2 - Testing your fuzzer"
   ]
  },
  {
   "cell_type": "markdown",
   "metadata": {},
   "source": [
    "You need to run your fuzzer on 3 Python programs. You can choose any reasonable size program that you find (e.g.,\n",
    "the program cannot be a simple print ’Hello World’). You can find existing programs or you can write the programs\n",
    "yourself.\n",
    "\n",
    "For example program, you need to try different fuzzing approaches described above, in addition to the\n",
    "fuzzer you wrote. You need to discuss and compare each fuzzing approach (e.g., pure randomly vs coverage-guided)\n",
    "in terms of coverage. You also need to plot how the coverage increases for the inputs that you tried (i.e., the same as the plot illustrated above).\n",
    "\n",
    "In addition to coverage, if your program found any bug (e.g., unexpected failure or crash), please record it."
   ]
  },
  {
   "cell_type": "code",
   "execution_count": 50,
   "metadata": {},
   "outputs": [
    {
     "data": {
      "text/plain": [
       "True"
      ]
     },
     "execution_count": 50,
     "metadata": {},
     "output_type": "execute_result"
    }
   ],
   "source": [
    "#program no 2 to Test \n",
    "import validators\n",
    "def is_valid_email(email):\n",
    "    try:\n",
    "        result=validators.email(email)\n",
    "        return True\n",
    "    except ValueError: \n",
    "            return False\n",
    "\n",
    "email=\"urbashicse@gmail.com\"\n",
    "is_valid_email(email)"
   ]
  },
  {
   "cell_type": "code",
   "execution_count": 55,
   "metadata": {},
   "outputs": [
    {
     "data": {
      "text/plain": [
       "False"
      ]
     },
     "execution_count": 55,
     "metadata": {},
     "output_type": "execute_result"
    }
   ],
   "source": [
    "#program no 3 to Test\n",
    "from IPy import IP\n",
    "def is_valid_ip(ip):\n",
    "    try:\n",
    "        IP(ip)\n",
    "        return True\n",
    "    except ValueError:\n",
    "        return False\n",
    "is_valid_ip(\"172.101.245.123.111.001\")"
   ]
  },
  {
   "cell_type": "code",
   "execution_count": 88,
   "metadata": {
    "scrolled": false
   },
   "outputs": [
    {
     "data": {
      "text/plain": [
       "Text(0, 0.5, 'coverage')"
      ]
     },
     "execution_count": 88,
     "metadata": {},
     "output_type": "execute_result"
    },
    {
     "data": {
      "image/png": "[encoded data removed]",
      "text/plain": [
       "<Figure size 432x288 with 1 Axes>"
      ]
     },
     "metadata": {
      "needs_background": "light"
     },
     "output_type": "display_data"
    }
   ],
   "source": [
    "import matplotlib.pyplot as plt\n",
    "%matplotlib inline\n",
    "inputs = get_fuzzy_inputs(is_valid_ip,\"172.101.245.123.111.001\")\n",
    "#this represents Mutation fuzzer and color is RED in the plot\n",
    "plt.plot(cumulative_coverage,\"r\")\n",
    "#this represents My fuzzer and color is green in the plot\n",
    "plt.plot(my_cumulative_coverage,\"g\")\n",
    "#this represents Random fuzzer and color is blue in the plot\n",
    "plt.plot(random_cumulative_coverage,\"b\")\n",
    "plt.title('Coverage of is_valid_ip() with random inputs')\n",
    "plt.xlabel(\"# of inputs\")\n",
    "plt.ylabel('coverage')"
   ]
  },
  {
   "cell_type": "code",
   "execution_count": 96,
   "metadata": {},
   "outputs": [
    {
     "data": {
      "text/plain": [
       "Text(0, 0.5, 'coverage')"
      ]
     },
     "execution_count": 96,
     "metadata": {},
     "output_type": "execute_result"
    },
    {
     "data": {
      "image/png": "[encoded data removed]",
      "text/plain": [
       "<Figure size 432x288 with 1 Axes>"
      ]
     },
     "metadata": {
      "needs_background": "light"
     },
     "output_type": "display_data"
    }
   ],
   "source": [
    "import matplotlib.pyplot as plt\n",
    "%matplotlib inline\n",
    "#checks coverage for is_valid_url function for a given seed\n",
    "inputs = get_fuzzy_inputs(is_valid_url,\"https://www.concordia.ca\")\n",
    "#this represents Mutation fuzzer and color is RED in the plot\n",
    "plt.plot(cumulative_coverage,\"r\")\n",
    "#this represents My fuzzer and color is green in the plot\n",
    "plt.plot(my_cumulative_coverage,\"g\")\n",
    "#this represents Random fuzzer and color is blue in the plot\n",
    "plt.plot(random_cumulative_coverage,\"b\")\n",
    "plt.title('Coverage of is_valid_url() with random inputs')\n",
    "plt.xlabel(\"# no inputs\")\n",
    "plt.ylabel('coverage')"
   ]
  },
  {
   "cell_type": "code",
   "execution_count": 95,
   "metadata": {},
   "outputs": [
    {
     "data": {
      "text/plain": [
       "Text(0, 0.5, 'coverage')"
      ]
     },
     "execution_count": 95,
     "metadata": {},
     "output_type": "execute_result"
    },
    {
     "data": {
      "image/png": "[encoded data removed]",
      "text/plain": [
       "<Figure size 432x288 with 1 Axes>"
      ]
     },
     "metadata": {
      "needs_background": "light"
     },
     "output_type": "display_data"
    }
   ],
   "source": [
    "import matplotlib.pyplot as plt\n",
    "%matplotlib inline\n",
    "#checks coverage for is_valid_url function for a given seed\n",
    "inputs = get_fuzzy_inputs(is_valid_email,\"urbashi0931@gmail.com\")\n",
    "#this represents Mutation fuzzer and color is RED in the plot\n",
    "plt.plot(cumulative_coverage,\"r\")\n",
    "#this represents My fuzzer and color is green in the plot\n",
    "plt.plot(my_cumulative_coverage,\"g\")\n",
    "#this represents Random fuzzer and color is blue in the plot\n",
    "plt.plot(random_cumulative_coverage,\"b\")\n",
    "plt.title('Coverage of is_valid_email() with random inputs')\n",
    "plt.xlabel(\"# of inputs\")\n",
    "plt.ylabel('coverage')"
   ]
  },
  {
   "cell_type": "markdown",
   "metadata": {},
   "source": [
    "# Submission"
   ]
  },
  {
   "cell_type": "markdown",
   "metadata": {},
   "source": [
    "Your final submission will be the Jupyter file that you worked on. You will submit the Jupyter file to the Moodle. Please include descriptions for different steps that you take when working on the assignment."
   ]
  }
 ],
 "metadata": {
  "kernelspec": {
   "display_name": "Python 3",
   "language": "python",
   "name": "python3"
  },
  "language_info": {
   "codemirror_mode": {
    "name": "ipython",
    "version": 3
   },
   "file_extension": ".py",
   "mimetype": "text/x-python",
   "name": "python",
   "nbconvert_exporter": "python",
   "pygments_lexer": "ipython3",
   "version": "3.8.3"
  }
 },
 "nbformat": 4,
 "nbformat_minor": 2
}
